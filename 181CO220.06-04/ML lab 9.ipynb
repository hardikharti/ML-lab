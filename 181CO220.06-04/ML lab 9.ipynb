{
 "cells": [
  {
   "cell_type": "markdown",
   "metadata": {},
   "source": [
    "# CS353 - Machine Learning Lab exam\n",
    "## Section 2\n",
    "## Name: Hardik L Harti\n",
    "## Roll number : 181CO220"
   ]
  },
  {
   "cell_type": "code",
   "execution_count": 1,
   "metadata": {},
   "outputs": [],
   "source": [
    "import numpy as np\n",
    "import matplotlib.pyplot as plt\n",
    "import pandas as pd\n"
   ]
  },
  {
   "cell_type": "code",
   "execution_count": 2,
   "metadata": {},
   "outputs": [],
   "source": [
    "#defining sigmoid function for activation\n",
    "def sigmoid(x):\n",
    "    return 1 / (1 + np.exp(-x))"
   ]
  },
  {
   "cell_type": "code",
   "execution_count": 3,
   "metadata": {},
   "outputs": [],
   "source": [
    "def initializeParameters(inputFeatures, neuronsInHiddenLayers, outputFeatures):\n",
    "    W1 = np.random.randn(neuronsInHiddenLayers, inputFeatures)\n",
    "    W2 = np.random.randn(outputFeatures, neuronsInHiddenLayers)\n",
    "    b1 = np.zeros((neuronsInHiddenLayers, 1))\n",
    "    b2 = np.zeros((outputFeatures, 1))\n",
    "      \n",
    "    parameters = {\"W1\" : W1, \"b1\": b1,\n",
    "                  \"W2\" : W2, \"b2\": b2}\n",
    "    return parameters\n",
    "  "
   ]
  },
  {
   "cell_type": "code",
   "execution_count": 4,
   "metadata": {},
   "outputs": [],
   "source": [
    "#forward propogation step\n",
    "def forwardPropagation(X, Y, parameters):\n",
    "    m = X.shape[1]\n",
    "    W1 = parameters[\"W1\"]\n",
    "    W2 = parameters[\"W2\"]\n",
    "    b1 = parameters[\"b1\"]\n",
    "    b2 = parameters[\"b2\"]\n",
    "  \n",
    "    Z1 = np.dot(W1, X) + b1\n",
    "    A1 = sigmoid(Z1) #activation function\n",
    "    Z2 = np.dot(W2, A1) + b2\n",
    "    A2 = sigmoid(Z2) #activation function\n",
    "  \n",
    "    cache = (Z1, A1, W1, b1, Z2, A2, W2, b2)\n",
    "    logprobs = np.multiply(np.log(A2), Y) + np.multiply(np.log(1 - A2), (1 - Y))\n",
    "    cost = -np.sum(logprobs) / m\n",
    "    return cost, cache, A2"
   ]
  },
  {
   "cell_type": "code",
   "execution_count": 5,
   "metadata": {},
   "outputs": [],
   "source": [
    "# Backward Propagation step\n",
    "def backwardPropagation(X, y, cache):\n",
    "    m = X.shape[1]\n",
    "    (Z1, A1, W1, b1, Z2, A2, W2, b2) = cache\n",
    "      \n",
    "    dZ2 = A2 - y\n",
    "    dW2 = np.dot(dZ2, A1.T) / m\n",
    "    db2 = np.sum(dZ2, axis = 1, keepdims = True)\n",
    "      \n",
    "    dA1 = np.dot(W2.T, dZ2)\n",
    "    dZ1 = np.multiply(dA1, A1 * (1- A1))\n",
    "    dW1 = np.dot(dZ1, X.T) / m\n",
    "    db1 = np.sum(dZ1, axis = 1, keepdims = True) / m\n",
    "      \n",
    "    gradients = {\"dZ2\": dZ2, \"dW2\": dW2, \"db2\": db2,\n",
    "                 \"dZ1\": dZ1, \"dW1\": dW1, \"db1\": db1}\n",
    "    return gradients"
   ]
  },
  {
   "cell_type": "code",
   "execution_count": 6,
   "metadata": {},
   "outputs": [],
   "source": [
    "def updateParameters(parameters, gradients, learningRate):\n",
    "    parameters[\"W1\"] = parameters[\"W1\"] - learningRate * gradients[\"dW1\"]\n",
    "    parameters[\"W2\"] = parameters[\"W2\"] - learningRate * gradients[\"dW2\"]\n",
    "    parameters[\"b1\"] = parameters[\"b1\"] - learningRate * gradients[\"db1\"]\n",
    "    parameters[\"b2\"] = parameters[\"b2\"] - learningRate * gradients[\"db2\"]\n",
    "    return parameters"
   ]
  },
  {
   "cell_type": "code",
   "execution_count": 7,
   "metadata": {},
   "outputs": [],
   "source": [
    "X = np.array([[0, 0, 1, 1], [0, 1, 0, 1]]) # XOR input\n",
    "y = np.array([[1, 0, 0, 0]]) # XOR output"
   ]
  },
  {
   "cell_type": "code",
   "execution_count": 8,
   "metadata": {},
   "outputs": [],
   "source": [
    "neuronsInHiddenLayers = 2 # number of hidden layer neurons (2)\n",
    "inputFeatures = X.shape[0] # number of input features (2)\n",
    "outputFeatures = y.shape[0] # number of output features (1)\n",
    "parameters = initializeParameters(inputFeatures, neuronsInHiddenLayers, outputFeatures)\n",
    "epoch = 100000\n",
    "learningRate = 0.01\n",
    "losses = np.zeros((epoch, 1))\n",
    "  \n",
    "for i in range(epoch):\n",
    "    losses[i, 0], cache, A2 = forwardPropagation(X, y, parameters)\n",
    "    gradients = backwardPropagation(X, y, cache)\n",
    "    parameters = updateParameters(parameters, gradients, learningRate)"
   ]
  },
  {
   "cell_type": "code",
   "execution_count": 9,
   "metadata": {},
   "outputs": [
    {
     "name": "stdout",
     "output_type": "stream",
     "text": [
      "A | B | Y\n",
      "--|---|--\n",
      "1 | 0 | 0\n",
      "1 | 1 | 0\n",
      "0 | 0 | 1\n",
      "0 | 1 | 0\n"
     ]
    }
   ],
   "source": [
    "#Testing on the trained dataset\n",
    "X = np.array([[1, 1, 0, 0], [0, 1, 0, 1]]) # NOR input\n",
    "cost, _, A2 = forwardPropagation(X, y, parameters)\n",
    "pred = (A2 > 0.5) * 1.0\n",
    "#print(A2)\n",
    "print('A | B | Y')\n",
    "print('--|---|--')\n",
    "for i in range(0,4):\n",
    "  print('{} | {} | {}'.format(X[0, i], X[1, i], int(pred[0,i])))"
   ]
  },
  {
   "cell_type": "code",
   "execution_count": 10,
   "metadata": {},
   "outputs": [
    {
     "data": {
      "image/png": "[encoded data removed]",
      "text/plain": [
       "<Figure size 432x288 with 1 Axes>"
      ]
     },
     "metadata": {
      "needs_background": "light"
     },
     "output_type": "display_data"
    }
   ],
   "source": [
    "plt.figure()\n",
    "plt.plot(losses)\n",
    "plt.xlabel(\"EPOCHS\")\n",
    "plt.ylabel(\"Loss value\")\n",
    "plt.show()"
   ]
  },
  {
   "cell_type": "code",
   "execution_count": null,
   "metadata": {},
   "outputs": [],
   "source": []
  }
 ],
 "metadata": {
  "kernelspec": {
   "display_name": "Python 3",
   "language": "python",
   "name": "python3"
  },
  "language_info": {
   "codemirror_mode": {
    "name": "ipython",
    "version": 3
   },
   "file_extension": ".py",
   "mimetype": "text/x-python",
   "name": "python",
   "nbconvert_exporter": "python",
   "pygments_lexer": "ipython3",
   "version": "3.8.5"
  }
 },
 "nbformat": 4,
 "nbformat_minor": 4
}
